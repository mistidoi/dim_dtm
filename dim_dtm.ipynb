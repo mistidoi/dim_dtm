{
 "cells": [
  {
   "cell_type": "code",
   "execution_count": 64,
   "metadata": {
    "collapsed": true
   },
   "outputs": [],
   "source": [
    "import gensim\n",
    "import logging\n",
    "logging.basicConfig(format='%(asctime)s : %(levelname)s : %(message)s', level=logging.INFO)\n",
    "logging.root.level = logging.INFO "
   ]
  },
  {
   "cell_type": "code",
   "execution_count": 65,
   "metadata": {
    "collapsed": true
   },
   "outputs": [],
   "source": [
    "documents = [\"Human machine interface for lab abc computer applications\",\n",
    "        \"A survey of user opinion of computer system response time\",\n",
    "        \"The EPS user interface management system\",\n",
    "        \"System and human system engineering testing of EPS\",\n",
    "        \"Relation of user perceived response time to error measurement\",\n",
    "        \"The generation of random binary unordered trees\",\n",
    "        \"The intersection graph of paths in trees\",\n",
    "        \"Graph minors IV Widths of trees and well quasi ordering\",\n",
    "        \"Graph minors A survey\"]"
   ]
  },
  {
   "cell_type": "code",
   "execution_count": 66,
   "metadata": {
    "collapsed": true
   },
   "outputs": [],
   "source": [
    "# remove common words and tokenize\n",
    "stoplist = set('. ? |'.split())\n",
    "texts = [[word for word in document.lower().split() if word not in stoplist]\n",
    "         for document in documents]"
   ]
  },
  {
   "cell_type": "code",
   "execution_count": 67,
   "metadata": {
    "collapsed": false
   },
   "outputs": [
    {
     "name": "stdout",
     "output_type": "stream",
     "text": [
      "[['human', 'machine', 'interface', 'for', 'lab', 'abc', 'computer', 'applications'], ['a', 'survey', 'of', 'user', 'opinion', 'of', 'computer', 'system', 'response', 'time'], ['the', 'eps', 'user', 'interface', 'management', 'system'], ['system', 'and', 'human', 'system', 'engineering', 'testing', 'of', 'eps'], ['relation', 'of', 'user', 'perceived', 'response', 'time', 'to', 'error', 'measurement'], ['the', 'generation', 'of', 'random', 'binary', 'unordered', 'trees'], ['the', 'intersection', 'graph', 'of', 'paths', 'in', 'trees'], ['graph', 'minors', 'iv', 'widths', 'of', 'trees', 'and', 'well', 'quasi', 'ordering'], ['graph', 'minors', 'a', 'survey']]\n"
     ]
    }
   ],
   "source": [
    "print texts"
   ]
  },
  {
   "cell_type": "code",
   "execution_count": 68,
   "metadata": {
    "collapsed": true
   },
   "outputs": [],
   "source": [
    "from collections import defaultdict\n",
    "frequency = defaultdict(int)\n",
    "for text in texts:\n",
    "    for token in text:\n",
    "        frequency[token] += 1\n",
    "\n",
    "texts = [[token for token in text if frequency[token] > 1]\n",
    "         for text in texts]"
   ]
  },
  {
   "cell_type": "code",
   "execution_count": 69,
   "metadata": {
    "collapsed": false
   },
   "outputs": [
    {
     "data": {
      "text/plain": [
       "[['human', 'interface', 'computer'],\n",
       " ['a', 'survey', 'of', 'user', 'of', 'computer', 'system', 'response', 'time'],\n",
       " ['the', 'eps', 'user', 'interface', 'system'],\n",
       " ['system', 'and', 'human', 'system', 'of', 'eps'],\n",
       " ['of', 'user', 'response', 'time'],\n",
       " ['the', 'of', 'trees'],\n",
       " ['the', 'graph', 'of', 'trees'],\n",
       " ['graph', 'minors', 'of', 'trees', 'and'],\n",
       " ['graph', 'minors', 'a', 'survey']]"
      ]
     },
     "execution_count": 69,
     "metadata": {},
     "output_type": "execute_result"
    }
   ],
   "source": [
    "texts"
   ]
  },
  {
   "cell_type": "code",
   "execution_count": 70,
   "metadata": {
    "collapsed": false
   },
   "outputs": [
    {
     "name": "stderr",
     "output_type": "stream",
     "text": [
      "INFO:gensim.corpora.dictionary:adding document #0 to Dictionary(0 unique tokens: [])\n",
      "INFO:gensim.corpora.dictionary:built Dictionary(16 unique tokens: [u'a', u'and', u'minors', u'graph', u'of']...) from 9 documents (total 43 corpus positions)\n",
      "INFO:gensim.utils:saving Dictionary object under /tmp/dicty.dict, separately None\n"
     ]
    },
    {
     "name": "stdout",
     "output_type": "stream",
     "text": [
      "{u'a': 3, u'and': 12, u'minors': 15, u'graph': 14, u'of': 4, u'system': 5, u'trees': 13, u'eps': 11, u'computer': 1, u'survey': 6, u'user': 7, u'human': 2, u'time': 8, u'interface': 0, u'the': 10, u'response': 9}\n"
     ]
    }
   ],
   "source": [
    "dictionary = corpora.Dictionary(texts)\n",
    "dictionary.save('/tmp/dicty.dict') # store the dictionary, for future reference\n",
    "print(dictionary.token2id)"
   ]
  },
  {
   "cell_type": "code",
   "execution_count": 71,
   "metadata": {
    "collapsed": false
   },
   "outputs": [
    {
     "name": "stderr",
     "output_type": "stream",
     "text": [
      "INFO:gensim.corpora.mmcorpus:storing corpus in Matrix Market format to /tmp/corpusy.mm\n",
      "INFO:gensim.matutils:saving sparse matrix to /tmp/corpusy.mm\n",
      "INFO:gensim.matutils:PROGRESS: saving document #0\n",
      "INFO:gensim.matutils:saved 9x16 matrix, density=28.472% (41/144)\n",
      "INFO:gensim.corpora.indexedcorpus:saving MmCorpus index to /tmp/corpusy.mm.index\n"
     ]
    },
    {
     "name": "stdout",
     "output_type": "stream",
     "text": [
      "[[(0, 1), (1, 1), (2, 1)], [(1, 1), (3, 1), (4, 2), (5, 1), (6, 1), (7, 1), (8, 1), (9, 1)], [(0, 1), (5, 1), (7, 1), (10, 1), (11, 1)], [(2, 1), (4, 1), (5, 2), (11, 1), (12, 1)], [(4, 1), (7, 1), (8, 1), (9, 1)], [(4, 1), (10, 1), (13, 1)], [(4, 1), (10, 1), (13, 1), (14, 1)], [(4, 1), (12, 1), (13, 1), (14, 1), (15, 1)], [(3, 1), (6, 1), (14, 1), (15, 1)]]\n"
     ]
    }
   ],
   "source": [
    "corpus = [dictionary.doc2bow(text) for text in texts]\n",
    "corpora.MmCorpus.serialize('/tmp/corpusy.mm', corpus) # store to disk, for later use\n",
    "print(corpus)"
   ]
  },
  {
   "cell_type": "code",
   "execution_count": 79,
   "metadata": {
    "collapsed": true
   },
   "outputs": [],
   "source": [
    "timeslice = [1,3,5]"
   ]
  },
  {
   "cell_type": "code",
   "execution_count": 80,
   "metadata": {
    "collapsed": false
   },
   "outputs": [
    {
     "name": "stderr",
     "output_type": "stream",
     "text": [
      "INFO:gensim.models.wrappers.dtmmodel:serializing temporary corpus to /Users/brandonosis/Projects/dim_dtm/train-mult.dat\n",
      "INFO:gensim.corpora.bleicorpus:no word id mapping provided; initializing from corpus\n",
      "INFO:gensim.corpora.bleicorpus:storing corpus in Blei's LDA-C format into /Users/brandonosis/Projects/dim_dtm/train-mult.dat\n",
      "INFO:gensim.corpora.bleicorpus:saving vocabulary of 16 words to /Users/brandonosis/Projects/dim_dtm/train-mult.dat.vocab\n",
      "INFO:gensim.models.wrappers.dtmmodel:training DTM with args --ntopics=20 --model=dtm  --mode=fit --initialize_lda=false --corpus_prefix=/Users/brandonosis/Projects/dim_dtm/train --outname=/Users/brandonosis/Projects/dim_dtm/train_out --alpha=0.01 --lda_max_em_iter=10 --lda_sequence_min_iter=6  --lda_sequence_max_iter=20 --top_chain_var=0.005 --rng_seed=0 \n"
     ]
    }
   ],
   "source": [
    "model = gensim.models.wrappers.DtmModel('./dtm_release/dtm/main',\n",
    "                                        corpus=corpus,\n",
    "                                        time_slices=timeslice,\n",
    "                                        num_topics=20,\n",
    "                                        prefix=\"/Users/brandonosis/Projects/dim_dtm/\",\n",
    "                                        id2word=dictionary)"
   ]
  },
  {
   "cell_type": "code",
   "execution_count": 78,
   "metadata": {
    "collapsed": false
   },
   "outputs": [
    {
     "data": {
      "text/plain": [
       "[u'0.062*response + 0.062*user + 0.062*graph + 0.062*trees + 0.062*and + 0.062*eps + 0.062*the + 0.062*interface + 0.062*time + 0.062*of',\n",
       " u'0.062*response + 0.062*user + 0.062*graph + 0.062*trees + 0.062*and + 0.062*eps + 0.062*the + 0.062*interface + 0.062*time + 0.062*of',\n",
       " u'0.062*response + 0.062*user + 0.062*graph + 0.062*trees + 0.062*and + 0.062*eps + 0.062*the + 0.062*interface + 0.062*time + 0.062*of',\n",
       " u'0.062*response + 0.062*user + 0.062*graph + 0.062*trees + 0.062*and + 0.062*eps + 0.062*the + 0.062*interface + 0.062*time + 0.062*of',\n",
       " u'0.229*trees + 0.229*of + 0.152*graph + 0.152*the + 0.020*response + 0.020*user + 0.020*and + 0.020*eps + 0.020*interface + 0.020*system',\n",
       " u'0.062*response + 0.062*user + 0.062*graph + 0.062*trees + 0.062*and + 0.062*eps + 0.062*the + 0.062*interface + 0.062*time + 0.062*of',\n",
       " u'0.062*response + 0.062*user + 0.062*graph + 0.062*trees + 0.062*and + 0.062*eps + 0.062*the + 0.062*interface + 0.062*time + 0.062*of',\n",
       " u'0.255*of + 0.050*response + 0.050*user + 0.050*graph + 0.050*trees + 0.050*and + 0.050*eps + 0.050*the + 0.050*interface + 0.050*system',\n",
       " u'0.062*response + 0.062*user + 0.062*graph + 0.062*trees + 0.062*and + 0.062*eps + 0.062*the + 0.062*interface + 0.062*time + 0.062*of',\n",
       " u'0.062*response + 0.062*user + 0.062*graph + 0.062*trees + 0.062*and + 0.062*eps + 0.062*the + 0.062*interface + 0.062*time + 0.062*of',\n",
       " u'0.062*response + 0.062*user + 0.062*graph + 0.062*trees + 0.062*and + 0.062*eps + 0.062*the + 0.062*interface + 0.062*time + 0.062*of',\n",
       " u'0.062*response + 0.062*user + 0.062*graph + 0.062*trees + 0.062*and + 0.062*eps + 0.062*the + 0.062*interface + 0.062*time + 0.062*of',\n",
       " u'0.062*response + 0.062*user + 0.062*graph + 0.062*trees + 0.062*and + 0.062*eps + 0.062*the + 0.062*interface + 0.062*time + 0.062*of',\n",
       " u'0.062*response + 0.062*user + 0.062*graph + 0.062*trees + 0.062*and + 0.062*eps + 0.062*the + 0.062*interface + 0.062*time + 0.062*of',\n",
       " u'0.229*trees + 0.229*of + 0.152*graph + 0.152*the + 0.020*response + 0.020*user + 0.020*and + 0.020*eps + 0.020*interface + 0.020*system',\n",
       " u'0.062*response + 0.062*user + 0.062*graph + 0.062*trees + 0.062*and + 0.062*eps + 0.062*the + 0.062*interface + 0.062*time + 0.062*of',\n",
       " u'0.062*response + 0.062*user + 0.062*graph + 0.062*trees + 0.062*and + 0.062*eps + 0.062*the + 0.062*interface + 0.062*time + 0.062*of',\n",
       " u'0.255*of + 0.050*response + 0.050*user + 0.050*graph + 0.050*trees + 0.050*and + 0.050*eps + 0.050*the + 0.050*interface + 0.050*system',\n",
       " u'0.062*response + 0.062*user + 0.062*graph + 0.062*trees + 0.062*and + 0.062*eps + 0.062*the + 0.062*interface + 0.062*time + 0.062*of',\n",
       " u'0.062*response + 0.062*user + 0.062*graph + 0.062*trees + 0.062*and + 0.062*eps + 0.062*the + 0.062*interface + 0.062*time + 0.062*of',\n",
       " u'0.062*response + 0.062*user + 0.062*graph + 0.062*trees + 0.062*and + 0.062*eps + 0.062*the + 0.062*interface + 0.062*time + 0.062*of',\n",
       " u'0.062*response + 0.062*user + 0.062*graph + 0.062*trees + 0.062*and + 0.062*eps + 0.062*the + 0.062*interface + 0.062*time + 0.062*of',\n",
       " u'0.062*response + 0.062*user + 0.062*graph + 0.062*trees + 0.062*and + 0.062*eps + 0.062*the + 0.062*interface + 0.062*time + 0.062*of',\n",
       " u'0.062*response + 0.062*user + 0.062*graph + 0.062*trees + 0.062*and + 0.062*eps + 0.062*the + 0.062*interface + 0.062*time + 0.062*of',\n",
       " u'0.229*trees + 0.229*of + 0.152*graph + 0.152*the + 0.020*response + 0.020*user + 0.020*and + 0.020*eps + 0.020*interface + 0.020*system',\n",
       " u'0.062*response + 0.062*user + 0.062*graph + 0.062*trees + 0.062*and + 0.062*eps + 0.062*the + 0.062*interface + 0.062*time + 0.062*of',\n",
       " u'0.062*response + 0.062*user + 0.062*graph + 0.062*trees + 0.062*and + 0.062*eps + 0.062*the + 0.062*interface + 0.062*time + 0.062*of',\n",
       " u'0.256*of + 0.050*response + 0.050*user + 0.050*graph + 0.050*trees + 0.050*and + 0.050*eps + 0.050*the + 0.050*interface + 0.050*system',\n",
       " u'0.062*response + 0.062*user + 0.062*graph + 0.062*trees + 0.062*and + 0.062*eps + 0.062*the + 0.062*interface + 0.062*time + 0.062*of',\n",
       " u'0.062*response + 0.062*user + 0.062*graph + 0.062*trees + 0.062*and + 0.062*eps + 0.062*the + 0.062*interface + 0.062*time + 0.062*of']"
      ]
     },
     "execution_count": 78,
     "metadata": {},
     "output_type": "execute_result"
    }
   ],
   "source": [
    "model.print_topics()"
   ]
  },
  {
   "cell_type": "code",
   "execution_count": null,
   "metadata": {
    "collapsed": true
   },
   "outputs": [],
   "source": []
  },
  {
   "cell_type": "code",
   "execution_count": null,
   "metadata": {
    "collapsed": true
   },
   "outputs": [],
   "source": []
  },
  {
   "cell_type": "code",
   "execution_count": null,
   "metadata": {
    "collapsed": true
   },
   "outputs": [],
   "source": []
  }
 ],
 "metadata": {
  "kernelspec": {
   "display_name": "Python 2",
   "language": "python",
   "name": "python2"
  },
  "language_info": {
   "codemirror_mode": {
    "name": "ipython",
    "version": 2
   },
   "file_extension": ".py",
   "mimetype": "text/x-python",
   "name": "python",
   "nbconvert_exporter": "python",
   "pygments_lexer": "ipython2",
   "version": "2.7.9"
  }
 },
 "nbformat": 4,
 "nbformat_minor": 0
}
