{
 "cells": [
  {
   "cell_type": "code",
   "execution_count": 1,
   "metadata": {
    "collapsed": true
   },
   "outputs": [],
   "source": [
    "cipher = \"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\"\n",
    "\n",
    "potential_plaintext = \"\"\"<?xml version=\"1.0\" encoding=\"UTF-8\"?>\n",
    "<SOAP-ENV:Envelope xmlns:SOAP-ENV=\"http://schemas.xmlsoap.org/soap/envelope/\" xmlns:xsd=\"http://www.w3.org/1999/XMLSchema\" xmlns:xsi=\"http://www.w3.org/1999/XMLSchema-instance\"><SOAP-ENV:Body><return><IndentStyle>bullet</IndentStyle><SectionSubTitle>;color:#000000</SectionSubTitle><SectionTitle></SectionTitle><SubTitle>no</SubTitle><fax></fax><GuarantorName>Testing, Theresa</GuarantorName><GuarantorId>34438</GuarantorId><patient>Testing, Theresa</patient><EncounterId>34464</EncounterId><PatientId>34438</PatientId><ProviderId>122</ProviderId><ControlNo>34438</ControlNo><DOB>12/01/1987</DOB><phone>212-123-4567</phone><address>100 Testing Lane, Apartment Test, Brooklyn, NY-11210</address><encDate>11/04/2007</encDate><age>19 Y</age><sex>Female</sex><reqNo>34438.34464</reqNo><provider>Anita Celeste Beecham-Robinson, MD</provider><StLicNo>228070</StLicNo><userName>support</userName><TimeStamp>Electronically signed by support eclinicalworks  on 11/04/2007 at 09:49 AM EST</TimeStamp><SignOffStatus>Sign off status: Completed</SignOffStatus><ShowSignature>No</ShowSignature><HospitalName>Community Healthcare Network</HospitalName><HospitalName1>Community Healthcare Network</HospitalName1><HospitalName2></HospitalName2><HospitalAddress1>79 Madison Avenue</HospitalAddress1><HospitalAddress2>6th Floor</HospitalAddress2><HospitalAddress3>NEW YORK, NY 10016</HospitalAddress3><HospitalPhone>212-545-2409</HospitalPhone><HospitalFax></HospitalFax><refPr></refPr><HealthProMRN>80949.1</HealthProMRN><HealthProPaperChart>BX_MD_12345, LE_MD_34567, HB_DN_34262, M2_MD_45316</HealthProPaperChart><PrivacyLevel>Code Cindy</PrivacyLevel><DowntownMRN></DowntownMRN><SaintMRN></SaintMRN><NotesType>Progress Notes</NotesType><items/><subItems><subItemsName>Subjective:</subItemsName><cc/><CurrentMeds><itemValue>None</itemValue></CurrentMeds><PastHistory/><allergies/><hpi/></subItems><subItems><subItemsName>Objective:</subItemsName><PastOrders/><examination><item/></examination></subItems><subItems><subItemsName>Assessment:</subItemsName></subItems><subItems><subItemsName>Plan:</subItemsName><treatment/><Immunization><itemName>Immunizations:</itemName></Immunization><procedures/></subItems></return></SOAP-ENV:Body></SOAP-ENV:Envelope>\n",
    "\"\"\"\n"
   ]
  },
  {
   "cell_type": "code",
   "execution_count": 2,
   "metadata": {
    "collapsed": true
   },
   "outputs": [],
   "source": [
    "def sxor(s1,s2):    \n",
    "    # convert strings to a list of character pair tuples\n",
    "    # go through each tuple, converting them to ASCII code (ord)\n",
    "    # perform exclusive or on the ASCII code\n",
    "    # then convert the result back to ASCII (chr)\n",
    "    # merge the resulting array of characters as a string\n",
    "    return ''.join(chr(ord(a) ^ ord(b)) for a,b in zip(s1,s2))"
   ]
  },
  {
   "cell_type": "code",
   "execution_count": 4,
   "metadata": {
    "collapsed": false
   },
   "outputs": [],
   "source": [
    "that = sxor(cipher,potential_plaintext)"
   ]
  },
  {
   "cell_type": "code",
   "execution_count": null,
   "metadata": {
    "collapsed": true
   },
   "outputs": [],
   "source": []
  }
 ],
 "metadata": {
  "kernelspec": {
   "display_name": "Python 2",
   "language": "python",
   "name": "python2"
  },
  "language_info": {
   "codemirror_mode": {
    "name": "ipython",
    "version": 2
   },
   "file_extension": ".py",
   "mimetype": "text/x-python",
   "name": "python",
   "nbconvert_exporter": "python",
   "pygments_lexer": "ipython2",
   "version": "2.7.9"
  }
 },
 "nbformat": 4,
 "nbformat_minor": 0
}
